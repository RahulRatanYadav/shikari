{
 "cells": [
  {
   "cell_type": "raw",
   "id": "a40c143c",
   "metadata": {},
   "source": [
    "# 1. In the below elements which of them are values or an expression? eg:- values can be\n",
    "integer or string and expressions will be mathematical operators.\n",
    "\n",
    "*                : expression(mathematical operator)\n",
    "&#39;hello&#39;  : value (string)\n",
    "-87.8            : value (integer)\n",
    "-                : expression(mathematical operator)\n",
    "/                : expression(mathematical operator)\n",
    "+                : expression(mathematical operator)\n",
    "6                : value (integer)"
   ]
  },
  {
   "cell_type": "raw",
   "id": "96799950",
   "metadata": {},
   "source": [
    "2. What is the difference between string and variable?\n",
    " A Variable is a store of information, and a String is a type of information you would store in a Variable.\n",
    " A String is usually words, enclosed with \"\"."
   ]
  },
  {
   "cell_type": "raw",
   "id": "d2e0a57c",
   "metadata": {},
   "source": [
    "3. Describe three different data types.\n",
    "   Strings\t:  anything between \" \"  becomes string\t\n",
    "   Integers\t:  can store only numerical values as a whole no.\n",
    "   Booleans\t:  values that represent Yes/No\t\n",
    "\n",
    "4. What is an expression made up of? What do all expressions do?\n",
    "   An expression is an instruction that combines values and operators and always evaluates down to a single value.\n",
    "\n",
    "\n",
    "5. This assignment statements, like spam = 10. What is the difference between an\n",
    "expression and a statement?\n",
    "A statement does something. Statements represent an action or command e.g print statements, assignment statements. Expression is a combination of variables, operations and values that yields a result value. An expression is something that can be reduced to a value, for example \"1+3\" or \"foo = 1+3\"\n",
    "\n",
    "6. After running the following code, what does the variable bacon contain?\n",
    "bacon = 22\n",
    "bacon + 1\n",
    "       it gives 23 as execution code \n",
    "\n",
    "7. What should the values of the following two terms be?\n",
    "&#39;spam&#39; + &#39;spamspam&#39;\n",
    "&#39;spam&#39; * 3\n",
    "it will be the same : spamspamspam\n",
    "\n",
    "8. Why is eggs a valid variable name while 100 is invalid?\n",
    "     Because we can't start giving variable an integer name. if we, we should begin with, a string-like alphabet name then      integer. e100 or eggs100 is valid\n",
    "\n",
    "9. What three functions can be used to get the integer, floating-point number, or string\n",
    "version of a value?\n",
    "          str(), int(), float()\n",
    "\n",
    "\n",
    "10. Why does this expression cause an error? How can you fix it?\n",
    "&#39;I have eaten &#39; + 99 + &#39; burritos.&#39;\n",
    "    because 99 is an integer it cannot be concatenated with strings, if we have to concatenate it we need to do                 typecasting by either putting 99 into \" \" or using str() function like str(99)."
   ]
  }
 ],
 "metadata": {
  "kernelspec": {
   "display_name": "Python 3 (ipykernel)",
   "language": "python",
   "name": "python3"
  },
  "language_info": {
   "codemirror_mode": {
    "name": "ipython",
    "version": 3
   },
   "file_extension": ".py",
   "mimetype": "text/x-python",
   "name": "python",
   "nbconvert_exporter": "python",
   "pygments_lexer": "ipython3",
   "version": "3.9.7"
  }
 },
 "nbformat": 4,
 "nbformat_minor": 5
}
