{
 "cells": [
  {
   "cell_type": "markdown",
   "id": "219c45bd",
   "metadata": {},
   "source": [
    "1.What are the two values of the Boolean data type? How do you write them?\n"
   ]
  },
  {
   "cell_type": "raw",
   "id": "1ea4178d",
   "metadata": {},
   "source": [
    "True and False, using capital T and F, with the rest of the word in lowercase"
   ]
  },
  {
   "cell_type": "markdown",
   "id": "8d5c6bf5",
   "metadata": {},
   "source": [
    "2. What are the three different types of Boolean operators? "
   ]
  },
  {
   "cell_type": "raw",
   "id": "96d4a56f",
   "metadata": {},
   "source": [
    "and, or, and not"
   ]
  },
  {
   "cell_type": "markdown",
   "id": "d63f0fc8",
   "metadata": {},
   "source": [
    "3. Make a list of each Boolean operator's truth tables (i.e. every possible combination of Boolean values for the operator and what it evaluate )."
   ]
  },
  {
   "cell_type": "raw",
   "id": "2103ef70",
   "metadata": {},
   "source": [
    "True and True is True.\n",
    "\n",
    "True and False is False.\n",
    "\n",
    "False and True is False.\n",
    "\n",
    "False and False is False.\n",
    "\n",
    "True or True is True.\n",
    "\n",
    "True or False is True.\n",
    "\n",
    "False or True is True.\n",
    "\n",
    "False or False is False.\n",
    "\n",
    "not True is False.\n",
    "\n",
    "not False is True."
   ]
  },
  {
   "cell_type": "markdown",
   "id": "fb43875b",
   "metadata": {},
   "source": [
    "4. What are the values of the following expressions?\n",
    "\n",
    "(5 > 4) and (3 == 5)  \n",
    "not (5 > 4)\n",
    "(5 > 4) or (3 == 5)\n",
    "not ((5 > 4) or (3 == 5))\n",
    "(True and True) and (True == False)\n",
    "(not False) or (not True)\n"
   ]
  },
  {
   "cell_type": "raw",
   "id": "6b26aad1",
   "metadata": {},
   "source": [
    "(5 > 4) and (3 == 5)                : False\n",
    "not (5 > 4)                         : False\n",
    "(5 > 4) or (3 == 5)                 : True\n",
    "not ((5 > 4) or (3 == 5))           : False\n",
    "(True and True) and (True == False) : False\n",
    "(not False) or (not True)           : True\n"
   ]
  },
  {
   "cell_type": "markdown",
   "id": "06497cdc",
   "metadata": {},
   "source": [
    "5. What are the six comparison operators?"
   ]
  },
  {
   "cell_type": "raw",
   "id": "6024949c",
   "metadata": {},
   "source": [
    "==, !=, <, >, <=, and >="
   ]
  },
  {
   "cell_type": "markdown",
   "id": "8f67fb4b",
   "metadata": {},
   "source": [
    "6. How do you tell the difference between the equal to and assignment operators?Describe a condition and when you would use one."
   ]
  },
  {
   "cell_type": "raw",
   "id": "d66d55b9",
   "metadata": {},
   "source": [
    "== is the equal to operator that compares two values and evaluates to a Boolean, while = is the assignment operator that stores a value in a variable."
   ]
  },
  {
   "cell_type": "markdown",
   "id": "68632148",
   "metadata": {},
   "source": [
    "7. Identify the three blocks in this code:\n",
    "\n",
    "spam = 0\n",
    "if spam == 10:\n",
    "print('eggs')\n",
    "if spam > 5:\n",
    "print('bacon')\n",
    "else:\n",
    "print('ham')\n",
    "print('spam')\n",
    "print('spam')\n"
   ]
  },
  {
   "cell_type": "raw",
   "id": "00783452",
   "metadata": {},
   "source": [
    "There is indentation error in all the three blocks. If we consider indentation is correct then output would be \n",
    "ham\n",
    "spam\n",
    "spam"
   ]
  },
  {
   "cell_type": "markdown",
   "id": "b7e2ee9d",
   "metadata": {},
   "source": [
    "8. Write code that prints Hello if 1 is stored in spam, prints Howdy if 2 is stored in spam, and prints\n",
    "Greetings! if anything else is stored in spam."
   ]
  },
  {
   "cell_type": "raw",
   "id": "ed20b0e1",
   "metadata": {},
   "source": [
    "spam = int(input(\"enter spam \"))\n",
    "if spam == 1:\n",
    "    print('Hello')\n",
    "elif spam == 2:\n",
    "    print('Howdy')\n",
    "else:\n",
    "    print('Greetings!')"
   ]
  },
  {
   "cell_type": "markdown",
   "id": "4da385de",
   "metadata": {},
   "source": [
    "9.If your programme is stuck in an endless loop, what keys you’ll press?"
   ]
  },
  {
   "cell_type": "raw",
   "id": "1aced718",
   "metadata": {},
   "source": [
    "Press CTRL-C to stop a program stuck in an infinite loop. OR by interrupting in kernel."
   ]
  },
  {
   "cell_type": "markdown",
   "id": "e055582d",
   "metadata": {},
   "source": [
    "10. How can you tell the difference between break and continue?"
   ]
  },
  {
   "cell_type": "raw",
   "id": "1c7ec459",
   "metadata": {},
   "source": [
    "The break statement will move the execution outside \n",
    "and just after a loop. The continue statement will\n",
    "move the execution to the start of the loop."
   ]
  },
  {
   "cell_type": "markdown",
   "id": "dced0dca",
   "metadata": {},
   "source": [
    "11. In a for loop, what is the difference between range(10), range(0, 10), \n",
    "and range(0, 10, 1)?"
   ]
  },
  {
   "cell_type": "raw",
   "id": "e98aab53",
   "metadata": {},
   "source": [
    "They all do the same thing. The range(10) call ranges from 0 up to \n",
    "(but not including) 10, range(0, 10) explicitly tells the loop to start\n",
    "at 0, and range(0, 10, 1) explicitly tells the loop to increase the\n",
    "variable by 1 on each iteration."
   ]
  },
  {
   "cell_type": "markdown",
   "id": "f54c4170",
   "metadata": {},
   "source": [
    "12. Write a short program that prints the numbers 1 to 10 using a for loop. Then write an equivalent\n",
    "program that prints the numbers 1 to 10 using a while loop."
   ]
  },
  {
   "cell_type": "code",
   "execution_count": 25,
   "id": "9f389429",
   "metadata": {},
   "outputs": [
    {
     "name": "stdout",
     "output_type": "stream",
     "text": [
      "using for loop :-\n",
      "1 2 3 4 5 6 7 8 9 10 \r\n",
      "\r\n",
      "using while loop:-\n",
      "1 2 3 4 5 6 7 8 9 10 "
     ]
    }
   ],
   "source": [
    "print(\"using for loop :-\")\n",
    "for i in range(1,11):\n",
    "    print(i , end = \" \")\n",
    "print(\"\\r\")\n",
    "print(\"\\r\")\n",
    "print(\"using while loop:-\")\n",
    "i=1\n",
    "while i<=10:\n",
    "    print(i,end = \" \")\n",
    "    i = i + 1"
   ]
  },
  {
   "cell_type": "markdown",
   "id": "e18b2a92",
   "metadata": {},
   "source": [
    "13. If you had a function named bacon() inside a module named spam, how would you call it after\n",
    "importing spam?"
   ]
  },
  {
   "cell_type": "raw",
   "id": "378cbf66",
   "metadata": {},
   "source": [
    "This function can be called with spam.bacon()."
   ]
  },
  {
   "cell_type": "code",
   "execution_count": null,
   "id": "9f9d1366",
   "metadata": {},
   "outputs": [],
   "source": []
  }
 ],
 "metadata": {
  "kernelspec": {
   "display_name": "Python 3 (ipykernel)",
   "language": "python",
   "name": "python3"
  },
  "language_info": {
   "codemirror_mode": {
    "name": "ipython",
    "version": 3
   },
   "file_extension": ".py",
   "mimetype": "text/x-python",
   "name": "python",
   "nbconvert_exporter": "python",
   "pygments_lexer": "ipython3",
   "version": "3.9.7"
  }
 },
 "nbformat": 4,
 "nbformat_minor": 5
}
