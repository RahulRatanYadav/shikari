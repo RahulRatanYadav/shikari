{
 "cells": [
  {
   "cell_type": "code",
   "execution_count": null,
   "id": "7402039f",
   "metadata": {},
   "outputs": [],
   "source": [
    "1. What exactly is []?"
   ]
  },
  {
   "cell_type": "code",
   "execution_count": null,
   "id": "37b605f6",
   "metadata": {},
   "outputs": [],
   "source": [
    "The empty list value, which is a list value that contains no items.\n",
    "This is similar to how '' is the empty string value."
   ]
  },
  {
   "cell_type": "code",
   "execution_count": null,
   "id": "d1df0429",
   "metadata": {},
   "outputs": [],
   "source": [
    "2. In a list of values stored in a variable called spam, how would you\n",
    "assign the value 'hello' as the third value? \n",
    "(Assume [2, 4, 6, 8, 10] are in spam.)\n"
   ]
  },
  {
   "cell_type": "code",
   "execution_count": 6,
   "id": "f5b65e28",
   "metadata": {
    "scrolled": true
   },
   "outputs": [
    {
     "data": {
      "text/plain": [
       "[2, 4, 'hello', 8, 10]"
      ]
     },
     "execution_count": 6,
     "metadata": {},
     "output_type": "execute_result"
    }
   ],
   "source": [
    "spam = [2, 4, 6, 8, 10]\n",
    "spam[2] = \"hello\"\n",
    "spam"
   ]
  },
  {
   "cell_type": "code",
   "execution_count": null,
   "id": "82351687",
   "metadata": {},
   "outputs": [],
   "source": [
    "Let's pretend the spam includes the list ['a', 'b', 'c', 'd'] for the \n",
    "next three queries.\n",
    "3. What is the value of spam[int(int('3' * 2) / 11)]?"
   ]
  },
  {
   "cell_type": "code",
   "execution_count": null,
   "id": "47b03d5e",
   "metadata": {},
   "outputs": [],
   "source": [
    "spam[3]\n",
    "i.e. :- \"d\""
   ]
  },
  {
   "cell_type": "code",
   "execution_count": null,
   "id": "e812273e",
   "metadata": {},
   "outputs": [],
   "source": [
    "4. What is the value of spam[-1]?"
   ]
  },
  {
   "cell_type": "code",
   "execution_count": null,
   "id": "7dba206a",
   "metadata": {},
   "outputs": [],
   "source": [
    "spam[-1] will be \"d\""
   ]
  },
  {
   "cell_type": "code",
   "execution_count": null,
   "id": "3ad62dee",
   "metadata": {},
   "outputs": [],
   "source": [
    "5. What is the value of spam[:2]?"
   ]
  },
  {
   "cell_type": "code",
   "execution_count": null,
   "id": "2796e8c9",
   "metadata": {},
   "outputs": [],
   "source": [
    "[\"a\",\"b\"]"
   ]
  },
  {
   "cell_type": "code",
   "execution_count": 10,
   "id": "716ad7bc",
   "metadata": {},
   "outputs": [],
   "source": [
    "Let's pretend bacon has the list [3.14, 'cat,' 11, 'cat,' True] \n",
    "for the next three questions.\n",
    "\n",
    "6. What is the value of bacon.index('cat')?\n"
   ]
  },
  {
   "cell_type": "code",
   "execution_count": null,
   "id": "46e18a38",
   "metadata": {},
   "outputs": [],
   "source": [
    "1"
   ]
  },
  {
   "cell_type": "code",
   "execution_count": null,
   "id": "037474ca",
   "metadata": {},
   "outputs": [],
   "source": [
    "7. How does bacon.append(99) change the look of the list value in bacon?"
   ]
  },
  {
   "cell_type": "code",
   "execution_count": null,
   "id": "48618ad1",
   "metadata": {},
   "outputs": [],
   "source": [
    "[3.14, 'cat,' 11, 'cat,' True, 99] "
   ]
  },
  {
   "cell_type": "code",
   "execution_count": null,
   "id": "e99e1d40",
   "metadata": {},
   "outputs": [],
   "source": [
    "8. How does bacon.remove('cat') change the look of the list in bacon?"
   ]
  },
  {
   "cell_type": "code",
   "execution_count": null,
   "id": "07c71cef",
   "metadata": {},
   "outputs": [],
   "source": [
    "[3.14, 11, 'cat', True]"
   ]
  },
  {
   "cell_type": "code",
   "execution_count": null,
   "id": "ae96f8a4",
   "metadata": {},
   "outputs": [],
   "source": [
    "9. What are the list concatenation and list replication operators?"
   ]
  },
  {
   "cell_type": "code",
   "execution_count": null,
   "id": "66e11863",
   "metadata": {},
   "outputs": [],
   "source": [
    "The operator for list concatenation is +, while the operator for\n",
    "replication is *. "
   ]
  },
  {
   "cell_type": "code",
   "execution_count": null,
   "id": "a2202a02",
   "metadata": {},
   "outputs": [],
   "source": [
    "10. What is difference between the list methods append() and insert()?"
   ]
  },
  {
   "cell_type": "code",
   "execution_count": null,
   "id": "342bd943",
   "metadata": {},
   "outputs": [],
   "source": [
    "While append() will add values only to the end of a list, \n",
    "insert() can add them anywhere in the list."
   ]
  },
  {
   "cell_type": "code",
   "execution_count": null,
   "id": "cfe9801d",
   "metadata": {},
   "outputs": [],
   "source": [
    "11. What are the two methods for removing items from a list?"
   ]
  },
  {
   "cell_type": "code",
   "execution_count": null,
   "id": "62ffb0a8",
   "metadata": {},
   "outputs": [],
   "source": [
    "The del statement and the remove() list method are two ways \n",
    "to remove values from a list."
   ]
  },
  {
   "cell_type": "code",
   "execution_count": null,
   "id": "6f0c686e",
   "metadata": {},
   "outputs": [],
   "source": [
    "12. Describe how list values and string values are identical."
   ]
  },
  {
   "cell_type": "code",
   "execution_count": null,
   "id": "a1aba315",
   "metadata": {},
   "outputs": [],
   "source": [
    "Both lists and strings can be passed to len(), have indexes \n",
    "and slices, be used in for loops, be concatenated or replicated,\n",
    "and be used with the in and not in operators."
   ]
  },
  {
   "cell_type": "code",
   "execution_count": null,
   "id": "20093366",
   "metadata": {},
   "outputs": [],
   "source": [
    "13. What's the difference between tuples and lists?"
   ]
  },
  {
   "cell_type": "code",
   "execution_count": null,
   "id": "12375718",
   "metadata": {},
   "outputs": [],
   "source": [
    "Lists are mutable; they can have values added, removed, or changed.\n",
    "Tuples are immutable; they cannot be changed at all. Also, tuples are \n",
    "written using parentheses, ( and ), while lists use the square brackets, [ and ]."
   ]
  },
  {
   "cell_type": "code",
   "execution_count": null,
   "id": "3760581c",
   "metadata": {},
   "outputs": [],
   "source": [
    "14. How do you type a tuple value that only contains the integer 42?"
   ]
  },
  {
   "cell_type": "code",
   "execution_count": 16,
   "id": "f0485af7",
   "metadata": {},
   "outputs": [
    {
     "data": {
      "text/plain": [
       "(42,)"
      ]
     },
     "execution_count": 16,
     "metadata": {},
     "output_type": "execute_result"
    }
   ],
   "source": [
    "(42,)"
   ]
  },
  {
   "cell_type": "code",
   "execution_count": null,
   "id": "7484147c",
   "metadata": {},
   "outputs": [],
   "source": [
    "15. How do you get a list value's tuple form? How do you get a \n",
    "tuple value's list form?"
   ]
  },
  {
   "cell_type": "code",
   "execution_count": null,
   "id": "fd77786b",
   "metadata": {},
   "outputs": [],
   "source": [
    "The tuple() and list() functions, respectively"
   ]
  },
  {
   "cell_type": "code",
   "execution_count": null,
   "id": "f00f7aa8",
   "metadata": {},
   "outputs": [],
   "source": [
    "16. Variables that \"contain\" list values are not necessarily lists\n",
    "themselves. Instead, what do they contain?"
   ]
  },
  {
   "cell_type": "code",
   "execution_count": null,
   "id": "3bb3d557",
   "metadata": {},
   "outputs": [],
   "source": [
    "They contain references to list values."
   ]
  },
  {
   "cell_type": "code",
   "execution_count": null,
   "id": "a091ac11",
   "metadata": {},
   "outputs": [],
   "source": [
    "17. How do you distinguish between copy.copy() and copy.deepcopy()?"
   ]
  },
  {
   "cell_type": "code",
   "execution_count": null,
   "id": "f1c03641",
   "metadata": {},
   "outputs": [],
   "source": [
    "The copy.copy() function will do a shallow copy of a list, while the \n",
    "copy.deepcopy() function will do a deep copy of a list. That is, only \n",
    "copy.deepcopy() will duplicate any lists inside the list."
   ]
  }
 ],
 "metadata": {
  "kernelspec": {
   "display_name": "Python 3 (ipykernel)",
   "language": "python",
   "name": "python3"
  },
  "language_info": {
   "codemirror_mode": {
    "name": "ipython",
    "version": 3
   },
   "file_extension": ".py",
   "mimetype": "text/x-python",
   "name": "python",
   "nbconvert_exporter": "python",
   "pygments_lexer": "ipython3",
   "version": "3.9.7"
  }
 },
 "nbformat": 4,
 "nbformat_minor": 5
}
