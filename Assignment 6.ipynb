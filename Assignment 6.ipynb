{
 "cells": [
  {
   "cell_type": "code",
   "execution_count": null,
   "id": "5832dc48",
   "metadata": {},
   "outputs": [],
   "source": [
    "1. What are escape characters, and how do you use them?"
   ]
  },
  {
   "cell_type": "code",
   "execution_count": null,
   "id": "9a95dfaf",
   "metadata": {},
   "outputs": [],
   "source": [
    "Escape characters represent characters in string values that would otherwise be difficult or impossible to type into code"
   ]
  },
  {
   "cell_type": "code",
   "execution_count": null,
   "id": "1a3edc8d",
   "metadata": {},
   "outputs": [],
   "source": [
    "2. What do the escape characters n and t stand for?\n"
   ]
  },
  {
   "cell_type": "code",
   "execution_count": null,
   "id": "933ace7e",
   "metadata": {},
   "outputs": [],
   "source": [
    "\\n is a newline; \\t is a tab"
   ]
  },
  {
   "cell_type": "code",
   "execution_count": null,
   "id": "6b621994",
   "metadata": {},
   "outputs": [],
   "source": [
    "3. What is the way to include backslash characters in a string?\n"
   ]
  },
  {
   "cell_type": "code",
   "execution_count": null,
   "id": "4c91080c",
   "metadata": {},
   "outputs": [],
   "source": [
    "The \\\\ escape character will represent a backslash character."
   ]
  },
  {
   "cell_type": "code",
   "execution_count": 7,
   "id": "7d7c2a18",
   "metadata": {},
   "outputs": [
    {
     "name": "stdout",
     "output_type": "stream",
     "text": [
      "\\\n"
     ]
    }
   ],
   "source": [
    "print(\"\\\\\")"
   ]
  },
  {
   "cell_type": "code",
   "execution_count": null,
   "id": "5f3f3f8d",
   "metadata": {},
   "outputs": [],
   "source": [
    "4. The string \"Howl's Moving Castle\" is a correct value. Why isn't the single quote character in the word Howl's \n",
    "not escaped a problem?\n"
   ]
  },
  {
   "cell_type": "code",
   "execution_count": null,
   "id": "db49a592",
   "metadata": {},
   "outputs": [],
   "source": [
    "The single quote in Howl's is fine because you've used double quotes to mark the beginning and end of the string."
   ]
  },
  {
   "cell_type": "code",
   "execution_count": null,
   "id": "2cfe0a25",
   "metadata": {},
   "outputs": [],
   "source": [
    "5. How do you write a string of newlines if you don't want to use the n character?"
   ]
  },
  {
   "cell_type": "code",
   "execution_count": null,
   "id": "1316b766",
   "metadata": {},
   "outputs": [],
   "source": [
    "Multiline strings allow you to use newlines in strings without the \\n escape character."
   ]
  },
  {
   "cell_type": "code",
   "execution_count": 12,
   "id": "ce4f16c9",
   "metadata": {},
   "outputs": [
    {
     "name": "stdout",
     "output_type": "stream",
     "text": [
      "Mai jaha rahoon\n",
      "Mai kahi bhi rahoon\n",
      "teri yaaad.....saath hai\n"
     ]
    }
   ],
   "source": [
    "print(\"Mai jaha rahoon\")\n",
    "print(\"Mai kahi bhi rahoon\")\n",
    "print(\"teri yaaad.....saath hai\")"
   ]
  },
  {
   "cell_type": "code",
   "execution_count": null,
   "id": "65eaead6",
   "metadata": {},
   "outputs": [],
   "source": [
    "6. What are the values of the given expressions?\n",
    "'Hello, world!'[1]\n",
    "'Hello, world!'[0:5]\n",
    "'Hello, world!'[:5]\n",
    "'Hello, world!'[3:]\n"
   ]
  },
  {
   "cell_type": "code",
   "execution_count": null,
   "id": "b0f42b45",
   "metadata": {},
   "outputs": [],
   "source": [
    "The expressions evaluate to the following:\n",
    "\n",
    "'e'\n",
    "\n",
    "'Hello'\n",
    "\n",
    "'Hello'\n",
    "\n",
    "'lo, world!'"
   ]
  },
  {
   "cell_type": "code",
   "execution_count": null,
   "id": "6c2b9234",
   "metadata": {},
   "outputs": [],
   "source": [
    "7. What are the values of the following expressions?\n",
    "'Hello'.upper()\n",
    "'Hello'.upper().isupper()\n",
    "'Hello'.upper().lower()\n"
   ]
  },
  {
   "cell_type": "code",
   "execution_count": null,
   "id": "7e8612ee",
   "metadata": {},
   "outputs": [],
   "source": [
    "The expressions evaluate to the following:\n",
    "\n",
    "'HELLO'\n",
    "\n",
    "True\n",
    "\n",
    "'hello'"
   ]
  },
  {
   "cell_type": "code",
   "execution_count": null,
   "id": "95cab807",
   "metadata": {},
   "outputs": [],
   "source": [
    "8. What are the values of the following expressions?\n",
    "'Remember, remember, the fifth of July.'.split()\n",
    "'-'.join('There can only one.'.split())\n"
   ]
  },
  {
   "cell_type": "code",
   "execution_count": null,
   "id": "61ac9fa7",
   "metadata": {},
   "outputs": [],
   "source": [
    "The expressions evaluate to the following:\n",
    "\n",
    "['Remember,', 'remember,', 'the', 'fifth', 'of', 'July.']\n",
    "'There-can-only-one.'"
   ]
  },
  {
   "cell_type": "code",
   "execution_count": null,
   "id": "5ff90e58",
   "metadata": {},
   "outputs": [],
   "source": [
    "9. What are the methods for right-justifying, left-justifying, and centering a string?"
   ]
  },
  {
   "cell_type": "code",
   "execution_count": null,
   "id": "b26e8a01",
   "metadata": {},
   "outputs": [],
   "source": [
    "The rjust(), ljust(), and center() string methods, respectively"
   ]
  },
  {
   "cell_type": "code",
   "execution_count": null,
   "id": "e56a88fe",
   "metadata": {},
   "outputs": [],
   "source": [
    "10. What is the best way to remove whitespace characters from the start or end?"
   ]
  },
  {
   "cell_type": "code",
   "execution_count": null,
   "id": "3de01e99",
   "metadata": {},
   "outputs": [],
   "source": [
    "The lstrip() and rstrip() methods remove whitespace from the left and right ends of a string, respectively."
   ]
  }
 ],
 "metadata": {
  "kernelspec": {
   "display_name": "Python 3 (ipykernel)",
   "language": "python",
   "name": "python3"
  },
  "language_info": {
   "codemirror_mode": {
    "name": "ipython",
    "version": 3
   },
   "file_extension": ".py",
   "mimetype": "text/x-python",
   "name": "python",
   "nbconvert_exporter": "python",
   "pygments_lexer": "ipython3",
   "version": "3.9.7"
  }
 },
 "nbformat": 4,
 "nbformat_minor": 5
}
